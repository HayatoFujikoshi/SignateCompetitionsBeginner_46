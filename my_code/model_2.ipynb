{
 "cells": [
  {
   "cell_type": "code",
   "execution_count": 1,
   "metadata": {},
   "outputs": [],
   "source": [
    "#必要なライブラリのインストール\n",
    "import pandas as pd\n",
    "from sklearn.model_selection import train_test_split\n",
    "from sklearn.preprocessing import StandardScaler\n",
    "from sklearn.metrics import classification_report, f1_score\n",
    "import xgboost as xgb"
   ]
  },
  {
   "cell_type": "code",
   "execution_count": 2,
   "metadata": {},
   "outputs": [],
   "source": [
    "train_filename = \"../data/train.csv\"\n",
    "test_filename = \"../data/test.csv\"\n",
    "#データの読み込み\n",
    "train_df = pd.read_csv(train_filename) \n",
    "test_df= pd.read_csv(test_filename)"
   ]
  },
  {
   "cell_type": "code",
   "execution_count": 3,
   "metadata": {},
   "outputs": [],
   "source": [
    "from sklearn.model_selection import train_test_split\n",
    "# 特徴量（Features）とターゲット（Target）の分離\n",
    "X = train_df.drop(['price_range','id'], axis=1)\n",
    "y = train_df['price_range']"
   ]
  },
  {
   "cell_type": "code",
   "execution_count": 4,
   "metadata": {},
   "outputs": [],
   "source": [
    "# データの標準化\n",
    "scaler = StandardScaler()\n",
    "X_scaled = scaler.fit_transform(X)"
   ]
  },
  {
   "cell_type": "code",
   "execution_count": 6,
   "metadata": {},
   "outputs": [],
   "source": [
    "# 訓練データとテストデータに分割\n",
    "X_train, X_test, y_train, y_test = train_test_split(X_scaled, y, test_size=0.2, random_state=5)"
   ]
  },
  {
   "cell_type": "code",
   "execution_count": 7,
   "metadata": {},
   "outputs": [
    {
     "name": "stdout",
     "output_type": "stream",
     "text": [
      "XGBoost\n",
      "F1 Macro Score: 0.4772\n",
      "              precision    recall  f1-score   support\n",
      "\n",
      "           0       0.39      0.42      0.41        38\n",
      "           1       0.41      0.42      0.41        62\n",
      "           2       0.75      0.59      0.66        92\n",
      "           3       0.38      0.50      0.43        48\n",
      "\n",
      "    accuracy                           0.50       240\n",
      "   macro avg       0.48      0.48      0.48       240\n",
      "weighted avg       0.53      0.50      0.51       240\n",
      "\n"
     ]
    }
   ],
   "source": [
    "# XGBoostのモデル構築と訓練\n",
    "xgb_model = xgb.XGBClassifier(use_label_encoder=False, eval_metric='mlogloss')\n",
    "xgb_model.fit(X_train, y_train)\n",
    "\n",
    "# 予測と評価\n",
    "y_pred = xgb_model.predict(X_test)\n",
    "f1_macro = f1_score(y_test, y_pred, average='macro')\n",
    "print(\"XGBoost\")\n",
    "print(f'F1 Macro Score: {f1_macro:.4f}')\n",
    "print(classification_report(y_test, y_pred))"
   ]
  },
  {
   "cell_type": "code",
   "execution_count": 35,
   "metadata": {},
   "outputs": [],
   "source": [
    "X_test = test_df.drop(['id'], axis=1)\n",
    "X_test_scaled = scaler.transform(X_test) #testデータも標準化\n",
    "\n"
   ]
  },
  {
   "cell_type": "code",
   "execution_count": 36,
   "metadata": {},
   "outputs": [
    {
     "data": {
      "text/plain": [
       "array([3, 0, 3, 0, 2, 3, 0, 3, 3, 1, 2, 2, 3, 1, 3, 1, 1, 2, 0, 2, 2, 1,\n",
       "       2, 3, 1, 1, 1, 1, 3, 2, 3, 3, 1, 2, 1, 2, 1, 0, 0, 0, 3, 3, 1, 0,\n",
       "       1, 2, 1, 0, 2, 2, 1, 2, 1, 1, 3, 1, 2, 1, 1, 2, 1, 3, 2, 3, 2, 2,\n",
       "       2, 2, 0, 3, 0, 3, 2, 1, 0, 1, 0, 1, 2, 2, 1, 1, 0, 2, 2, 0, 3, 1,\n",
       "       0, 1, 3, 0, 1, 3, 3, 2, 3, 1, 2, 2, 0, 1, 0, 2, 2, 0, 2, 2, 3, 2,\n",
       "       2, 2, 2, 0, 1, 1, 2, 3, 1, 1, 3, 3, 2, 1, 0, 2, 2, 2, 0, 2, 1, 0,\n",
       "       1, 2, 1, 3, 0, 2, 1, 3, 2, 2, 2, 3, 2, 2, 3, 1, 2, 0, 2, 3, 2, 2,\n",
       "       2, 0, 1, 2, 3, 3, 2, 1, 1, 1, 2, 3, 0, 2, 1, 1, 2, 3, 1, 3, 2, 3,\n",
       "       3, 1, 2, 1, 2, 2, 0, 0, 2, 2, 1, 3, 2, 2, 1, 3, 1, 3, 0, 0, 3, 1,\n",
       "       1, 1, 3, 2, 1, 2, 2, 3, 2, 1, 1, 0, 3, 1, 3, 2, 1, 2, 2, 2, 3, 3,\n",
       "       2, 0, 1, 2, 3, 1, 1, 2, 1, 1, 3, 1, 2, 0, 0, 2, 3, 2, 2, 2, 2, 0,\n",
       "       0, 0, 3, 0, 0, 2, 3, 3, 0, 3, 2, 2, 0, 3, 0, 0, 3, 0, 0, 2, 3, 2,\n",
       "       2, 0, 2, 1, 1, 2, 1, 2, 1, 2, 3, 0, 3, 1, 2, 1, 1, 2, 1, 3, 2, 1,\n",
       "       2, 3, 0, 3, 2, 2, 2, 3, 1, 2, 2, 3, 2, 1, 1, 1, 2, 3, 1, 2, 2, 1,\n",
       "       3, 3, 0, 2, 3, 2, 3, 1, 2, 2, 3, 0, 2, 1, 2, 3, 0, 2, 0, 3, 2, 2,\n",
       "       0, 0, 1, 1, 1, 1, 3, 2, 2, 3, 3, 3, 0, 2, 3, 2, 1, 2, 3, 3, 2, 2,\n",
       "       3, 0, 3, 1, 0, 1, 2, 1, 2, 1, 1, 1, 1, 0, 2, 0, 3, 2, 1, 1, 0, 2,\n",
       "       2, 1, 1, 1, 3, 1, 1, 2, 3, 1, 1, 2, 1, 2, 3, 2, 1, 3, 2, 0, 3, 2,\n",
       "       1, 2, 3, 2, 0, 0, 3, 0, 3, 3, 3, 2, 1, 2, 1, 0, 1, 3, 2, 1, 2, 2,\n",
       "       1, 3, 2, 2, 1, 2, 3, 0, 1, 3, 0, 1, 3, 2, 1, 3, 2, 0, 1, 2, 1, 3,\n",
       "       3, 3, 0, 2, 3, 1, 0, 2, 3, 2, 1, 0, 2, 2, 3, 0, 0, 1, 2, 3, 2, 3,\n",
       "       2, 2, 2, 0, 2, 3, 2, 0, 3, 2, 3, 2, 2, 3, 2, 2, 1, 0, 3, 0, 1, 2,\n",
       "       3, 1, 3, 3, 3, 1, 2, 0, 0, 2, 1, 1, 1, 2, 3, 3, 1, 3, 0, 1, 0, 1,\n",
       "       0, 2, 1, 2, 2, 2, 3, 3, 2, 3, 0, 2, 0, 3, 3, 0, 1, 3, 2, 3, 2, 3,\n",
       "       2, 2, 0, 1, 2, 2, 2, 3, 2, 2, 1, 2, 3, 1, 2, 1, 1, 1, 1, 2, 2, 1,\n",
       "       3, 2, 1, 2, 3, 2, 2, 3, 1, 1, 3, 0, 3, 1, 2, 1, 2, 2, 1, 1, 0, 0,\n",
       "       3, 3, 2, 2, 1, 2, 1, 1, 1, 3, 2, 2, 1, 3, 3, 3, 3, 1, 1, 1, 3, 2,\n",
       "       1, 0, 2, 1, 3, 1, 2, 2, 0, 2, 2, 3, 0, 1, 3, 3, 0, 3, 0, 0, 1, 2,\n",
       "       1, 2, 3, 1, 0, 1, 3, 2, 1, 2, 2, 1, 2, 2, 1, 1, 0, 0, 3, 1, 0, 3,\n",
       "       3, 2, 3, 2, 2, 1, 3, 0, 1, 0, 2, 2, 3, 1, 3, 1, 1, 3, 3, 3, 0, 1,\n",
       "       2, 2, 0, 0, 1, 2, 2, 2, 0, 1, 2, 2, 0, 1, 1, 2, 3, 0, 1, 3, 2, 2,\n",
       "       0, 1, 2, 1, 0, 0, 2, 2, 2, 2, 3, 3, 2, 3, 3, 1, 0, 3, 1, 3, 3, 1,\n",
       "       3, 3, 3, 2, 0, 0, 1, 2, 1, 2, 3, 2, 0, 2, 2, 0, 1, 1, 3, 2, 2, 3,\n",
       "       0, 3, 3, 1, 3, 3, 1, 0, 2, 1, 1, 0, 2, 0, 2, 1, 0, 0, 1, 3, 0, 3,\n",
       "       2, 2, 3, 3, 2, 1, 0, 1, 3, 2, 1, 0, 1, 1, 2, 3, 3, 1, 2, 3, 1, 0,\n",
       "       3, 2, 2, 2, 3, 1, 3, 1, 1, 3, 3, 0, 2, 3, 1, 1, 1, 2, 0, 2, 1, 2,\n",
       "       3, 3, 3, 0, 1, 3, 2, 2], dtype=int64)"
      ]
     },
     "execution_count": 36,
     "metadata": {},
     "output_type": "execute_result"
    }
   ],
   "source": [
    "# テストデータで予測\n",
    "test_predict = xgb_model.predict(X_test_scaled)\n",
    "test_predict"
   ]
  },
  {
   "cell_type": "code",
   "execution_count": 37,
   "metadata": {},
   "outputs": [],
   "source": [
    "#sample_submissionの読み込み\n",
    "import csv\n",
    "\n",
    "# sample_submissionファイルのパスと名前\n",
    "sample_filename = \"../data/sample_submission.csv\"\n",
    "#提出データのパスと名前\n",
    "submit_filename = \"../submit/submit2.csv\"\n",
    "\n",
    "submit_data = []\n",
    "# CSVファイルを読み込む\n",
    "with open(sample_filename, 'r', encoding='utf-8') as file:\n",
    "    reader = csv.reader(file)\n",
    "    # 各行を処理する\n",
    "    i = 0\n",
    "    for row in reader:\n",
    "        row[1] = test_predict[i]\n",
    "        submit_data.append(row)\n",
    "        i += 1\n",
    "\n",
    "\n",
    "# 書き換えたデータをCSVファイルに書き込む\n",
    "with open(submit_filename, 'w', newline='', encoding='utf-8') as file:\n",
    "    writer = csv.writer(file)\n",
    "    for row in submit_data:\n",
    "        writer.writerow(row)"
   ]
  },
  {
   "cell_type": "code",
   "execution_count": null,
   "metadata": {},
   "outputs": [],
   "source": [
    "\n"
   ]
  },
  {
   "cell_type": "code",
   "execution_count": null,
   "metadata": {},
   "outputs": [],
   "source": []
  }
 ],
 "metadata": {
  "kernelspec": {
   "display_name": "myenv",
   "language": "python",
   "name": "python3"
  },
  "language_info": {
   "codemirror_mode": {
    "name": "ipython",
    "version": 3
   },
   "file_extension": ".py",
   "mimetype": "text/x-python",
   "name": "python",
   "nbconvert_exporter": "python",
   "pygments_lexer": "ipython3",
   "version": "3.12.2"
  }
 },
 "nbformat": 4,
 "nbformat_minor": 2
}
