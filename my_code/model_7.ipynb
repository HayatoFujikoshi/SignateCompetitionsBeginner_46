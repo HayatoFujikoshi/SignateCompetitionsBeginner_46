{
 "cells": [
  {
   "cell_type": "markdown",
   "metadata": {},
   "source": [
    "# 携帯電話価格帯分類のコンペの前情報"
   ]
  },
  {
   "cell_type": "markdown",
   "metadata": {},
   "source": [
    "## 前処理"
   ]
  },
  {
   "cell_type": "code",
   "execution_count": 1,
   "metadata": {},
   "outputs": [],
   "source": [
    "#必要なライブラリのインストール\n",
    "import pandas as pd\n",
    "import matplotlib.pyplot as plt\n",
    "import seaborn as sns"
   ]
  },
  {
   "cell_type": "code",
   "execution_count": 2,
   "metadata": {},
   "outputs": [],
   "source": [
    "train_filename = \"../data/train.csv\"\n",
    "test_filename = \"../data/test.csv\"\n",
    "#データの読み込み\n",
    "train_df = pd.read_csv(train_filename) \n",
    "test_df= pd.read_csv(test_filename)"
   ]
  },
  {
   "cell_type": "markdown",
   "metadata": {},
   "source": [
    "## パラメータを調整\n"
   ]
  },
  {
   "cell_type": "code",
   "execution_count": 29,
   "metadata": {},
   "outputs": [
    {
     "name": "stdout",
     "output_type": "stream",
     "text": [
      "Accuracy: 0.5041666666666667\n",
      "f1_macro: 0.4831\n"
     ]
    }
   ],
   "source": [
    "from sklearn.preprocessing import StandardScaler\n",
    "import xgboost as xgb\n",
    "\n",
    "# 特徴量（Features）とターゲット（Target）の分離\n",
    "X_train = train_df.drop(['price_range', 'id'], axis=1)\n",
    "y_train = train_df['price_range']\n",
    "X_test = test_df.drop(['id'], axis=1)\n",
    "\n",
    "# データの標準化\n",
    "scaler = StandardScaler()\n",
    "X_train_scaled = scaler.fit_transform(X_train)\n",
    "X_test_scaled = scaler.transform(X_test)\n",
    "\n",
    "# XGBoostモデルのパラメータ設定\n",
    "params = {\n",
    "    'learning_rate': 0.1,\n",
    "    'n_estimators': 200,\n",
    "    'max_depth': 4,\n",
    "    'min_child_weight': 1,\n",
    "    'gamma': 0,\n",
    "    'subsample': 0.8,\n",
    "    'colsample_bytree': 0.8,\n",
    "    'reg_alpha': 0.1,\n",
    "    'reg_lambda': 1,\n",
    "    'objective': 'multi:softmax',  # マルチクラス分類\n",
    "    'num_class': 4  # クラス数\n",
    "}\n",
    "\n",
    "#訓練データとテストデータの分割\n",
    "from sklearn.model_selection import train_test_split\n",
    "X_train_scaled, X_val_scaled, y_train, y_val = train_test_split(X_train_scaled, y_train, test_size=0.2, random_state=4)\n",
    "\n",
    "xgb_model = xgb.XGBClassifier(**params, use_label_encoder=False, eval_metric='mlogloss')\n",
    "\n",
    "# モデルの訓練\n",
    "xgb_model.fit(X_train_scaled, y_train)\n",
    "\n",
    "# モデルの評価\n",
    "from sklearn.metrics import accuracy_score, f1_score\n",
    "y_pred = xgb_model.predict(X_val_scaled)\n",
    "accuracy = accuracy_score(y_val, y_pred)\n",
    "print(f'Accuracy: {accuracy}')\n",
    "f1_macro = f1_score(y_val, y_pred, average='macro')\n",
    "print(f'f1_macro: {f1_macro:.4f}')\n",
    "\n"
   ]
  },
  {
   "cell_type": "code",
   "execution_count": 31,
   "metadata": {},
   "outputs": [
    {
     "data": {
      "text/plain": [
       "array([1, 0, 3, 1, 2, 3, 0, 3, 3, 1, 2, 2, 3, 1, 3, 1, 1, 0, 0, 1, 2, 1,\n",
       "       2, 3, 1, 1, 1, 0, 3, 2, 0, 1, 1, 2, 1, 2, 0, 0, 0, 0, 0, 3, 1, 0,\n",
       "       2, 2, 3, 0, 2, 2, 2, 2, 3, 1, 1, 1, 2, 1, 3, 2, 2, 0, 0, 1, 2, 2,\n",
       "       2, 2, 0, 2, 0, 1, 2, 2, 0, 1, 0, 0, 2, 1, 0, 1, 0, 2, 2, 3, 3, 0,\n",
       "       0, 0, 0, 3, 1, 0, 3, 2, 2, 3, 2, 2, 0, 2, 0, 2, 2, 0, 3, 2, 2, 1,\n",
       "       2, 0, 2, 1, 1, 1, 3, 1, 2, 1, 2, 3, 1, 1, 0, 2, 2, 2, 0, 2, 1, 0,\n",
       "       1, 2, 3, 1, 0, 2, 1, 3, 2, 1, 2, 3, 2, 1, 1, 1, 2, 0, 2, 3, 2, 2,\n",
       "       2, 0, 2, 2, 1, 3, 2, 0, 1, 3, 2, 3, 0, 1, 1, 1, 2, 3, 1, 3, 2, 3,\n",
       "       2, 1, 2, 1, 0, 2, 0, 0, 2, 2, 1, 3, 2, 2, 0, 1, 2, 1, 3, 0, 1, 1,\n",
       "       1, 0, 3, 2, 0, 2, 2, 3, 2, 1, 1, 0, 1, 1, 1, 0, 1, 2, 2, 2, 3, 1,\n",
       "       2, 0, 1, 1, 1, 1, 1, 2, 1, 1, 3, 1, 2, 0, 2, 1, 2, 2, 2, 0, 2, 0,\n",
       "       0, 0, 0, 0, 0, 2, 1, 2, 2, 3, 2, 2, 3, 2, 0, 1, 3, 0, 0, 2, 3, 2,\n",
       "       1, 3, 2, 1, 1, 2, 1, 2, 1, 2, 0, 0, 1, 1, 2, 1, 1, 2, 1, 3, 2, 2,\n",
       "       2, 0, 0, 3, 1, 2, 1, 3, 1, 2, 2, 1, 2, 0, 0, 1, 1, 3, 1, 2, 2, 1,\n",
       "       0, 3, 0, 1, 1, 2, 2, 1, 2, 2, 2, 0, 2, 1, 2, 3, 0, 2, 1, 3, 1, 2,\n",
       "       0, 2, 2, 1, 1, 1, 3, 2, 2, 2, 3, 1, 0, 2, 3, 3, 1, 1, 1, 3, 2, 2,\n",
       "       3, 0, 3, 2, 0, 3, 2, 1, 3, 1, 1, 1, 1, 1, 2, 0, 3, 1, 1, 1, 3, 2,\n",
       "       0, 1, 1, 1, 3, 1, 1, 2, 0, 1, 2, 2, 1, 2, 3, 2, 2, 3, 1, 0, 3, 1,\n",
       "       2, 2, 3, 2, 0, 0, 3, 0, 1, 3, 3, 2, 1, 2, 2, 0, 1, 1, 2, 1, 1, 2,\n",
       "       1, 3, 2, 2, 0, 2, 3, 0, 1, 3, 0, 3, 3, 1, 1, 2, 2, 0, 1, 2, 0, 3,\n",
       "       3, 3, 0, 2, 3, 2, 1, 1, 3, 1, 2, 0, 2, 2, 0, 3, 0, 3, 2, 0, 2, 3,\n",
       "       2, 2, 0, 3, 0, 3, 3, 0, 1, 2, 1, 2, 2, 3, 3, 2, 1, 0, 2, 0, 1, 2,\n",
       "       2, 1, 1, 1, 3, 1, 2, 0, 0, 2, 1, 1, 1, 2, 3, 3, 3, 3, 0, 1, 0, 1,\n",
       "       3, 2, 1, 2, 1, 2, 3, 1, 2, 0, 0, 1, 0, 3, 0, 1, 1, 3, 2, 1, 2, 3,\n",
       "       2, 1, 0, 3, 0, 2, 2, 0, 2, 2, 1, 2, 3, 1, 2, 3, 1, 1, 0, 2, 2, 1,\n",
       "       1, 2, 3, 2, 3, 2, 2, 3, 0, 1, 3, 0, 3, 1, 2, 0, 2, 1, 1, 1, 0, 0,\n",
       "       2, 1, 2, 3, 1, 2, 0, 1, 2, 0, 1, 2, 1, 2, 3, 3, 3, 1, 3, 1, 3, 2,\n",
       "       1, 2, 1, 1, 3, 1, 2, 2, 0, 2, 2, 3, 1, 3, 3, 1, 3, 1, 0, 0, 1, 1,\n",
       "       1, 2, 1, 1, 0, 1, 1, 2, 1, 3, 2, 1, 2, 2, 1, 1, 0, 0, 3, 1, 1, 3,\n",
       "       1, 2, 0, 2, 2, 1, 2, 2, 3, 0, 2, 2, 3, 1, 3, 1, 1, 3, 3, 3, 0, 1,\n",
       "       2, 1, 0, 1, 1, 2, 1, 2, 0, 1, 2, 2, 1, 1, 1, 2, 3, 0, 1, 2, 2, 2,\n",
       "       3, 1, 1, 1, 0, 0, 2, 2, 2, 2, 3, 0, 2, 3, 2, 1, 3, 2, 1, 2, 3, 1,\n",
       "       1, 3, 1, 2, 2, 0, 1, 2, 1, 0, 2, 2, 2, 2, 2, 0, 1, 1, 3, 1, 1, 1,\n",
       "       0, 1, 2, 2, 3, 3, 3, 1, 2, 1, 1, 1, 2, 3, 2, 1, 0, 0, 0, 3, 0, 3,\n",
       "       1, 2, 1, 1, 2, 1, 1, 1, 3, 2, 1, 1, 1, 1, 0, 3, 1, 1, 2, 1, 1, 0,\n",
       "       0, 2, 2, 2, 3, 1, 2, 1, 1, 3, 3, 0, 2, 3, 0, 1, 1, 1, 3, 1, 1, 2,\n",
       "       3, 3, 3, 3, 1, 3, 2, 2])"
      ]
     },
     "execution_count": 31,
     "metadata": {},
     "output_type": "execute_result"
    }
   ],
   "source": [
    "test_predict = xgb_model.predict(X_test_scaled)\n",
    "test_predict"
   ]
  },
  {
   "cell_type": "code",
   "execution_count": 32,
   "metadata": {},
   "outputs": [],
   "source": [
    "#sample_submissionの読み込み\n",
    "import csv\n",
    "\n",
    "# sample_submissionファイルのパスと名前\n",
    "sample_filename = \"../data/sample_submission.csv\"\n",
    "#提出データのパスと名前\n",
    "submit_filename = \"../submit/submit7.csv\"\n",
    "\n",
    "submit_data = []\n",
    "# CSVファイルを読み込む\n",
    "with open(sample_filename, 'r', encoding='utf-8') as file:\n",
    "    reader = csv.reader(file)\n",
    "    # 各行を処理する\n",
    "    i = 0\n",
    "    for row in reader:\n",
    "        row[1] = test_predict[i]\n",
    "        submit_data.append(row)\n",
    "        i += 1\n",
    "\n",
    "\n",
    "# 書き換えたデータをCSVファイルに書き込む\n",
    "with open(submit_filename, 'w', newline='', encoding='utf-8') as file:\n",
    "    writer = csv.writer(file)\n",
    "    for row in submit_data:\n",
    "        writer.writerow(row)\n"
   ]
  }
 ],
 "metadata": {
  "kernelspec": {
   "display_name": "base",
   "language": "python",
   "name": "python3"
  },
  "language_info": {
   "codemirror_mode": {
    "name": "ipython",
    "version": 3
   },
   "file_extension": ".py",
   "mimetype": "text/x-python",
   "name": "python",
   "nbconvert_exporter": "python",
   "pygments_lexer": "ipython3",
   "version": "3.12.2"
  }
 },
 "nbformat": 4,
 "nbformat_minor": 2
}
