{
 "cells": [
  {
   "cell_type": "markdown",
   "metadata": {},
   "source": [
    "# 携帯電話価格帯分類のコンペの前情報"
   ]
  },
  {
   "cell_type": "markdown",
   "metadata": {},
   "source": [
    "## 前処理"
   ]
  },
  {
   "cell_type": "code",
   "execution_count": 1,
   "metadata": {},
   "outputs": [],
   "source": [
    "#必要なライブラリのインストール\n",
    "import pandas as pd\n",
    "import matplotlib.pyplot as plt\n",
    "import seaborn as sns"
   ]
  },
  {
   "cell_type": "code",
   "execution_count": 2,
   "metadata": {},
   "outputs": [],
   "source": [
    "train_filename = \"../data/train.csv\"\n",
    "test_filename = \"../data/test.csv\"\n",
    "#データの読み込み\n",
    "train_df = pd.read_csv(train_filename) \n",
    "test_df= pd.read_csv(test_filename)"
   ]
  },
  {
   "cell_type": "markdown",
   "metadata": {},
   "source": [
    "## クロスバリデーションの使用"
   ]
  },
  {
   "cell_type": "code",
   "execution_count": 6,
   "metadata": {},
   "outputs": [
    {
     "name": "stdout",
     "output_type": "stream",
     "text": [
      "Cross-validated F1 Macro Score: 0.4586 ± 0.0319\n"
     ]
    }
   ],
   "source": [
    "from sklearn.model_selection import train_test_split, cross_val_score\n",
    "from sklearn.preprocessing import StandardScaler\n",
    "import xgboost as xgb\n",
    "from sklearn.metrics import classification_report, f1_score\n",
    "\n",
    "# 特徴量（Features）とターゲット（Target）の分離\n",
    "X = train_df.drop(['price_range', 'id'], axis=1)\n",
    "y = train_df['price_range']\n",
    "\n",
    "\n",
    "# XGBoostモデルの定義\n",
    "xgb_model = xgb.XGBClassifier(use_label_encoder=False, eval_metric='mlogloss')\n",
    "\n",
    "# クロスバリデーションの実行\n",
    "cv_scores = cross_val_score(xgb_model, X, y, cv=8, scoring='f1_macro')\n",
    "\n",
    "# 結果の表示\n",
    "print(f'Cross-validated F1 Macro Score: {cv_scores.mean():.4f} ± {cv_scores.std():.4f}')"
   ]
  },
  {
   "cell_type": "code",
   "execution_count": 8,
   "metadata": {},
   "outputs": [
    {
     "data": {
      "text/plain": [
       "array([3, 0, 3, 0, 2, 3, 0, 3, 1, 1, 1, 2, 3, 1, 3, 1, 1, 0, 0, 2, 2, 1,\n",
       "       2, 3, 1, 1, 1, 1, 3, 2, 0, 1, 1, 2, 1, 2, 0, 0, 0, 0, 0, 3, 2, 0,\n",
       "       1, 2, 1, 2, 2, 2, 1, 2, 1, 1, 3, 1, 2, 1, 3, 2, 2, 0, 2, 1, 2, 2,\n",
       "       2, 2, 0, 2, 0, 1, 2, 2, 3, 1, 0, 1, 2, 2, 1, 1, 0, 2, 2, 3, 3, 1,\n",
       "       3, 0, 3, 2, 2, 3, 3, 2, 3, 3, 2, 2, 0, 1, 1, 2, 2, 0, 3, 2, 2, 1,\n",
       "       2, 2, 2, 1, 1, 3, 2, 3, 1, 1, 2, 3, 2, 3, 1, 2, 2, 2, 0, 2, 3, 0,\n",
       "       1, 2, 3, 3, 0, 2, 1, 3, 2, 0, 2, 3, 2, 3, 1, 1, 2, 0, 2, 3, 2, 2,\n",
       "       3, 1, 2, 2, 3, 0, 2, 0, 2, 1, 2, 3, 0, 2, 1, 1, 2, 3, 1, 3, 2, 1,\n",
       "       1, 1, 2, 1, 2, 2, 2, 0, 2, 2, 1, 3, 0, 2, 1, 3, 1, 1, 2, 0, 1, 1,\n",
       "       1, 0, 3, 2, 2, 2, 2, 3, 2, 1, 1, 0, 1, 1, 1, 0, 1, 2, 2, 2, 3, 1,\n",
       "       2, 3, 1, 1, 1, 1, 1, 2, 1, 1, 3, 1, 1, 0, 1, 1, 2, 2, 2, 2, 2, 0,\n",
       "       0, 0, 3, 0, 0, 2, 1, 2, 0, 3, 2, 2, 2, 2, 0, 2, 3, 2, 0, 2, 3, 2,\n",
       "       1, 0, 2, 3, 0, 2, 1, 2, 1, 3, 0, 0, 1, 1, 2, 1, 1, 2, 0, 0, 2, 0,\n",
       "       2, 2, 0, 3, 2, 2, 1, 3, 2, 2, 2, 1, 2, 2, 0, 1, 1, 3, 1, 2, 2, 1,\n",
       "       0, 3, 1, 1, 1, 1, 3, 1, 0, 2, 3, 1, 2, 1, 2, 3, 0, 2, 0, 3, 2, 2,\n",
       "       1, 0, 1, 1, 1, 2, 3, 2, 2, 3, 2, 3, 0, 2, 3, 3, 1, 2, 0, 3, 2, 2,\n",
       "       3, 0, 3, 1, 3, 1, 1, 1, 0, 1, 1, 1, 1, 0, 2, 0, 3, 2, 1, 3, 1, 2,\n",
       "       0, 1, 1, 1, 3, 1, 1, 2, 3, 1, 2, 2, 1, 2, 3, 2, 1, 3, 2, 0, 3, 2,\n",
       "       3, 2, 3, 2, 0, 0, 3, 0, 1, 3, 3, 2, 1, 2, 1, 0, 1, 3, 2, 1, 3, 2,\n",
       "       1, 3, 2, 2, 0, 2, 3, 0, 1, 1, 0, 0, 3, 2, 1, 1, 2, 0, 1, 2, 0, 0,\n",
       "       3, 1, 3, 2, 3, 2, 0, 2, 3, 0, 2, 0, 2, 2, 0, 2, 0, 3, 2, 1, 2, 3,\n",
       "       2, 2, 0, 0, 0, 1, 2, 0, 1, 2, 1, 2, 2, 3, 3, 2, 1, 1, 2, 0, 1, 2,\n",
       "       2, 1, 3, 3, 3, 1, 2, 0, 0, 2, 1, 1, 1, 2, 3, 3, 1, 3, 0, 1, 0, 1,\n",
       "       3, 2, 1, 2, 3, 2, 3, 1, 2, 1, 2, 3, 0, 3, 1, 0, 1, 3, 2, 1, 1, 3,\n",
       "       2, 1, 0, 1, 0, 2, 2, 2, 2, 2, 1, 2, 3, 1, 2, 1, 1, 1, 0, 2, 2, 1,\n",
       "       3, 2, 2, 2, 3, 2, 2, 3, 1, 1, 2, 0, 3, 1, 2, 0, 2, 2, 1, 1, 2, 0,\n",
       "       3, 3, 2, 3, 3, 2, 0, 1, 1, 3, 3, 2, 1, 1, 3, 0, 2, 3, 3, 1, 3, 2,\n",
       "       1, 0, 1, 1, 3, 1, 2, 3, 0, 2, 2, 3, 1, 3, 2, 1, 0, 1, 1, 0, 1, 2,\n",
       "       1, 2, 1, 1, 0, 1, 3, 2, 3, 3, 2, 1, 2, 2, 1, 1, 1, 0, 3, 0, 1, 3,\n",
       "       3, 2, 3, 2, 2, 1, 1, 2, 1, 0, 2, 2, 1, 1, 3, 1, 3, 3, 3, 2, 1, 1,\n",
       "       2, 2, 0, 1, 1, 1, 1, 2, 0, 1, 2, 2, 1, 1, 3, 2, 3, 0, 1, 2, 2, 2,\n",
       "       2, 1, 0, 2, 0, 0, 2, 2, 2, 2, 1, 0, 2, 1, 2, 1, 3, 2, 2, 1, 3, 1,\n",
       "       1, 3, 3, 2, 2, 0, 1, 2, 1, 0, 3, 2, 1, 3, 2, 2, 1, 1, 3, 1, 2, 1,\n",
       "       0, 1, 3, 2, 3, 3, 1, 1, 2, 1, 1, 1, 2, 3, 3, 1, 1, 0, 1, 3, 0, 3,\n",
       "       3, 2, 1, 3, 2, 1, 3, 1, 1, 2, 1, 1, 1, 1, 0, 1, 3, 1, 1, 3, 1, 0,\n",
       "       1, 2, 2, 2, 3, 1, 3, 1, 0, 3, 3, 0, 2, 2, 1, 3, 3, 2, 3, 2, 1, 2,\n",
       "       1, 3, 3, 3, 1, 3, 2, 2], dtype=int64)"
      ]
     },
     "execution_count": 8,
     "metadata": {},
     "output_type": "execute_result"
    }
   ],
   "source": [
    "#モデルの再訓練\n",
    "xgb_model.fit(X, y)\n",
    "test_predict = xgb_model.predict(test_df.drop(\"id\",axis=1))\n",
    "test_predict"
   ]
  },
  {
   "cell_type": "code",
   "execution_count": 9,
   "metadata": {},
   "outputs": [],
   "source": [
    "#sample_submissionの読み込み\n",
    "import csv\n",
    "\n",
    "# sample_submissionファイルのパスと名前\n",
    "sample_filename = \"../data/sample_submission.csv\"\n",
    "#提出データのパスと名前\n",
    "submit_filename = \"../submit/submit6.csv\"\n",
    "\n",
    "submit_data = []\n",
    "# CSVファイルを読み込む\n",
    "with open(sample_filename, 'r', encoding='utf-8') as file:\n",
    "    reader = csv.reader(file)\n",
    "    # 各行を処理する\n",
    "    i = 0\n",
    "    for row in reader:\n",
    "        row[1] = test_predict[i]\n",
    "        submit_data.append(row)\n",
    "        i += 1\n",
    "\n",
    "\n",
    "# 書き換えたデータをCSVファイルに書き込む\n",
    "with open(submit_filename, 'w', newline='', encoding='utf-8') as file:\n",
    "    writer = csv.writer(file)\n",
    "    for row in submit_data:\n",
    "        writer.writerow(row)\n"
   ]
  },
  {
   "cell_type": "code",
   "execution_count": null,
   "metadata": {},
   "outputs": [],
   "source": []
  }
 ],
 "metadata": {
  "kernelspec": {
   "display_name": "base",
   "language": "python",
   "name": "python3"
  },
  "language_info": {
   "codemirror_mode": {
    "name": "ipython",
    "version": 3
   },
   "file_extension": ".py",
   "mimetype": "text/x-python",
   "name": "python",
   "nbconvert_exporter": "python",
   "pygments_lexer": "ipython3",
   "version": "3.12.2"
  }
 },
 "nbformat": 4,
 "nbformat_minor": 2
}
